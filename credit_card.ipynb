{
  "nbformat": 4,
  "nbformat_minor": 0,
  "metadata": {
    "colab": {
      "name": "credit card.ipynb",
      "provenance": [],
      "collapsed_sections": []
    },
    "kernelspec": {
      "name": "python3",
      "display_name": "Python 3"
    },
    "language_info": {
      "name": "python"
    }
  },
  "cells": [
    {
      "cell_type": "markdown",
      "source": [
        "### Contexto\n",
        "O que é Credit Scoring\n",
        "\n",
        "O Credit Score é uma medição feita por bancos ou financeiras para medir os riscos em conceder algum crédito, analisando o histórico da pessoa que pediu emprestado.\n",
        "\n",
        "Esta pontuação de crédito é utilizada para perceber se o tomador de crédito possar ser um potencial inadimplente no reembolso do dinheiro emprestado.\n",
        "\n",
        "Como funciona o Credit Scoring\n",
        "\n",
        "Para analisar o credit score, os bancos ou financeiras utilizam uma base de dados do tomador de crédito que envolvem os dados pessoais e os rendimentos mensais, além de protestos, ações judiciais ou outras dívidas em aberto."
      ],
      "metadata": {
        "id": "TYahugFFs92m"
      }
    },
    {
      "cell_type": "code",
      "execution_count": 62,
      "metadata": {
        "id": "LfA7pF5GsgQH"
      },
      "outputs": [],
      "source": [
        "import pandas as pd\n",
        "import numpy as np\n",
        "import seaborn as sns\n",
        "import matplotlib.pyplot as plt\n",
        "from sklearn.preprocessing import LabelEncoder\n",
        "from sklearn.preprocessing import OneHotEncoder\n",
        "from sklearn.preprocessing import StandardScaler\n",
        "from sklearn.compose import ColumnTransformer\n",
        "from sklearn.pipeline import Pipeline\n",
        "from sklearn.model_selection import train_test_split\n",
        "from sklearn.model_selection import StratifiedShuffleSplit\n",
        "from sklearn.dummy import DummyClassifier\n",
        "from sklearn.model_selection import cross_val_score\n",
        "from sklearn.model_selection import cross_val_predict\n",
        "from sklearn.metrics import confusion_matrix\n",
        "from sklearn.metrics import precision_score\n",
        "from sklearn.metrics import recall_score\n",
        "from sklearn.metrics import f1_score\n",
        "from sklearn.svm import SVC\n",
        "from sklearn.model_selection import GridSearchCV\n",
        "from sklearn.tree import DecisionTreeClassifier\n",
        "from pprint import pprint\n",
        "from sklearn.metrics import accuracy_score\n",
        "from imblearn.over_sampling import SMOTEN\n",
        "from sklearn.neighbors import KNeighborsClassifier\n",
        "from sklearn.metrics import roc_curve\n",
        "from sklearn.metrics import roc_auc_score"
      ]
    },
    {
      "cell_type": "code",
      "source": [
        "dataset = pd.read_csv('clean_data.csv')\n",
        "dataset.head()"
      ],
      "metadata": {
        "colab": {
          "base_uri": "https://localhost:8080/",
          "height": 357
        },
        "id": "Nv0KMwgzuHAq",
        "outputId": "a006259f-d30d-4a9c-9c6a-61b3271d2c82"
      },
      "execution_count": 63,
      "outputs": [
        {
          "output_type": "execute_result",
          "data": {
            "text/plain": [
              "        ID  Gender  Own_car  Own_property  Work_phone  Phone  Email  \\\n",
              "0  5008804       1        1             1           1      0      0   \n",
              "1  5008806       1        1             1           0      0      0   \n",
              "2  5008808       0        0             1           0      1      1   \n",
              "3  5008812       0        0             1           0      0      0   \n",
              "4  5008815       1        1             1           1      1      1   \n",
              "\n",
              "   Unemployed  Num_children  Num_family  Account_length  Total_income  \\\n",
              "0           0             0           2              15      427500.0   \n",
              "1           0             0           2              29      112500.0   \n",
              "2           0             0           1               4      270000.0   \n",
              "3           1             0           1              20      283500.0   \n",
              "4           0             0           2               5      270000.0   \n",
              "\n",
              "         Age  Years_employed           Income_type  \\\n",
              "0  32.868574       12.435574               Working   \n",
              "1  58.793815        3.104787               Working   \n",
              "2  52.321403        8.353354  Commercial associate   \n",
              "3  61.504343        0.000000             Pensioner   \n",
              "4  46.193967        2.105450               Working   \n",
              "\n",
              "                  Education_type         Family_status       Housing_type  \\\n",
              "0               Higher education        Civil marriage   Rented apartment   \n",
              "1  Secondary / secondary special               Married  House / apartment   \n",
              "2  Secondary / secondary special  Single / not married  House / apartment   \n",
              "3               Higher education             Separated  House / apartment   \n",
              "4               Higher education               Married  House / apartment   \n",
              "\n",
              "  Occupation_type  Target  \n",
              "0           Other       1  \n",
              "1  Security staff       0  \n",
              "2     Sales staff       0  \n",
              "3           Other       0  \n",
              "4     Accountants       0  "
            ],
            "text/html": [
              "\n",
              "  <div id=\"df-d50aa27d-db41-4a88-a4bb-fd62b986e657\">\n",
              "    <div class=\"colab-df-container\">\n",
              "      <div>\n",
              "<style scoped>\n",
              "    .dataframe tbody tr th:only-of-type {\n",
              "        vertical-align: middle;\n",
              "    }\n",
              "\n",
              "    .dataframe tbody tr th {\n",
              "        vertical-align: top;\n",
              "    }\n",
              "\n",
              "    .dataframe thead th {\n",
              "        text-align: right;\n",
              "    }\n",
              "</style>\n",
              "<table border=\"1\" class=\"dataframe\">\n",
              "  <thead>\n",
              "    <tr style=\"text-align: right;\">\n",
              "      <th></th>\n",
              "      <th>ID</th>\n",
              "      <th>Gender</th>\n",
              "      <th>Own_car</th>\n",
              "      <th>Own_property</th>\n",
              "      <th>Work_phone</th>\n",
              "      <th>Phone</th>\n",
              "      <th>Email</th>\n",
              "      <th>Unemployed</th>\n",
              "      <th>Num_children</th>\n",
              "      <th>Num_family</th>\n",
              "      <th>Account_length</th>\n",
              "      <th>Total_income</th>\n",
              "      <th>Age</th>\n",
              "      <th>Years_employed</th>\n",
              "      <th>Income_type</th>\n",
              "      <th>Education_type</th>\n",
              "      <th>Family_status</th>\n",
              "      <th>Housing_type</th>\n",
              "      <th>Occupation_type</th>\n",
              "      <th>Target</th>\n",
              "    </tr>\n",
              "  </thead>\n",
              "  <tbody>\n",
              "    <tr>\n",
              "      <th>0</th>\n",
              "      <td>5008804</td>\n",
              "      <td>1</td>\n",
              "      <td>1</td>\n",
              "      <td>1</td>\n",
              "      <td>1</td>\n",
              "      <td>0</td>\n",
              "      <td>0</td>\n",
              "      <td>0</td>\n",
              "      <td>0</td>\n",
              "      <td>2</td>\n",
              "      <td>15</td>\n",
              "      <td>427500.0</td>\n",
              "      <td>32.868574</td>\n",
              "      <td>12.435574</td>\n",
              "      <td>Working</td>\n",
              "      <td>Higher education</td>\n",
              "      <td>Civil marriage</td>\n",
              "      <td>Rented apartment</td>\n",
              "      <td>Other</td>\n",
              "      <td>1</td>\n",
              "    </tr>\n",
              "    <tr>\n",
              "      <th>1</th>\n",
              "      <td>5008806</td>\n",
              "      <td>1</td>\n",
              "      <td>1</td>\n",
              "      <td>1</td>\n",
              "      <td>0</td>\n",
              "      <td>0</td>\n",
              "      <td>0</td>\n",
              "      <td>0</td>\n",
              "      <td>0</td>\n",
              "      <td>2</td>\n",
              "      <td>29</td>\n",
              "      <td>112500.0</td>\n",
              "      <td>58.793815</td>\n",
              "      <td>3.104787</td>\n",
              "      <td>Working</td>\n",
              "      <td>Secondary / secondary special</td>\n",
              "      <td>Married</td>\n",
              "      <td>House / apartment</td>\n",
              "      <td>Security staff</td>\n",
              "      <td>0</td>\n",
              "    </tr>\n",
              "    <tr>\n",
              "      <th>2</th>\n",
              "      <td>5008808</td>\n",
              "      <td>0</td>\n",
              "      <td>0</td>\n",
              "      <td>1</td>\n",
              "      <td>0</td>\n",
              "      <td>1</td>\n",
              "      <td>1</td>\n",
              "      <td>0</td>\n",
              "      <td>0</td>\n",
              "      <td>1</td>\n",
              "      <td>4</td>\n",
              "      <td>270000.0</td>\n",
              "      <td>52.321403</td>\n",
              "      <td>8.353354</td>\n",
              "      <td>Commercial associate</td>\n",
              "      <td>Secondary / secondary special</td>\n",
              "      <td>Single / not married</td>\n",
              "      <td>House / apartment</td>\n",
              "      <td>Sales staff</td>\n",
              "      <td>0</td>\n",
              "    </tr>\n",
              "    <tr>\n",
              "      <th>3</th>\n",
              "      <td>5008812</td>\n",
              "      <td>0</td>\n",
              "      <td>0</td>\n",
              "      <td>1</td>\n",
              "      <td>0</td>\n",
              "      <td>0</td>\n",
              "      <td>0</td>\n",
              "      <td>1</td>\n",
              "      <td>0</td>\n",
              "      <td>1</td>\n",
              "      <td>20</td>\n",
              "      <td>283500.0</td>\n",
              "      <td>61.504343</td>\n",
              "      <td>0.000000</td>\n",
              "      <td>Pensioner</td>\n",
              "      <td>Higher education</td>\n",
              "      <td>Separated</td>\n",
              "      <td>House / apartment</td>\n",
              "      <td>Other</td>\n",
              "      <td>0</td>\n",
              "    </tr>\n",
              "    <tr>\n",
              "      <th>4</th>\n",
              "      <td>5008815</td>\n",
              "      <td>1</td>\n",
              "      <td>1</td>\n",
              "      <td>1</td>\n",
              "      <td>1</td>\n",
              "      <td>1</td>\n",
              "      <td>1</td>\n",
              "      <td>0</td>\n",
              "      <td>0</td>\n",
              "      <td>2</td>\n",
              "      <td>5</td>\n",
              "      <td>270000.0</td>\n",
              "      <td>46.193967</td>\n",
              "      <td>2.105450</td>\n",
              "      <td>Working</td>\n",
              "      <td>Higher education</td>\n",
              "      <td>Married</td>\n",
              "      <td>House / apartment</td>\n",
              "      <td>Accountants</td>\n",
              "      <td>0</td>\n",
              "    </tr>\n",
              "  </tbody>\n",
              "</table>\n",
              "</div>\n",
              "      <button class=\"colab-df-convert\" onclick=\"convertToInteractive('df-d50aa27d-db41-4a88-a4bb-fd62b986e657')\"\n",
              "              title=\"Convert this dataframe to an interactive table.\"\n",
              "              style=\"display:none;\">\n",
              "        \n",
              "  <svg xmlns=\"http://www.w3.org/2000/svg\" height=\"24px\"viewBox=\"0 0 24 24\"\n",
              "       width=\"24px\">\n",
              "    <path d=\"M0 0h24v24H0V0z\" fill=\"none\"/>\n",
              "    <path d=\"M18.56 5.44l.94 2.06.94-2.06 2.06-.94-2.06-.94-.94-2.06-.94 2.06-2.06.94zm-11 1L8.5 8.5l.94-2.06 2.06-.94-2.06-.94L8.5 2.5l-.94 2.06-2.06.94zm10 10l.94 2.06.94-2.06 2.06-.94-2.06-.94-.94-2.06-.94 2.06-2.06.94z\"/><path d=\"M17.41 7.96l-1.37-1.37c-.4-.4-.92-.59-1.43-.59-.52 0-1.04.2-1.43.59L10.3 9.45l-7.72 7.72c-.78.78-.78 2.05 0 2.83L4 21.41c.39.39.9.59 1.41.59.51 0 1.02-.2 1.41-.59l7.78-7.78 2.81-2.81c.8-.78.8-2.07 0-2.86zM5.41 20L4 18.59l7.72-7.72 1.47 1.35L5.41 20z\"/>\n",
              "  </svg>\n",
              "      </button>\n",
              "      \n",
              "  <style>\n",
              "    .colab-df-container {\n",
              "      display:flex;\n",
              "      flex-wrap:wrap;\n",
              "      gap: 12px;\n",
              "    }\n",
              "\n",
              "    .colab-df-convert {\n",
              "      background-color: #E8F0FE;\n",
              "      border: none;\n",
              "      border-radius: 50%;\n",
              "      cursor: pointer;\n",
              "      display: none;\n",
              "      fill: #1967D2;\n",
              "      height: 32px;\n",
              "      padding: 0 0 0 0;\n",
              "      width: 32px;\n",
              "    }\n",
              "\n",
              "    .colab-df-convert:hover {\n",
              "      background-color: #E2EBFA;\n",
              "      box-shadow: 0px 1px 2px rgba(60, 64, 67, 0.3), 0px 1px 3px 1px rgba(60, 64, 67, 0.15);\n",
              "      fill: #174EA6;\n",
              "    }\n",
              "\n",
              "    [theme=dark] .colab-df-convert {\n",
              "      background-color: #3B4455;\n",
              "      fill: #D2E3FC;\n",
              "    }\n",
              "\n",
              "    [theme=dark] .colab-df-convert:hover {\n",
              "      background-color: #434B5C;\n",
              "      box-shadow: 0px 1px 3px 1px rgba(0, 0, 0, 0.15);\n",
              "      filter: drop-shadow(0px 1px 2px rgba(0, 0, 0, 0.3));\n",
              "      fill: #FFFFFF;\n",
              "    }\n",
              "  </style>\n",
              "\n",
              "      <script>\n",
              "        const buttonEl =\n",
              "          document.querySelector('#df-d50aa27d-db41-4a88-a4bb-fd62b986e657 button.colab-df-convert');\n",
              "        buttonEl.style.display =\n",
              "          google.colab.kernel.accessAllowed ? 'block' : 'none';\n",
              "\n",
              "        async function convertToInteractive(key) {\n",
              "          const element = document.querySelector('#df-d50aa27d-db41-4a88-a4bb-fd62b986e657');\n",
              "          const dataTable =\n",
              "            await google.colab.kernel.invokeFunction('convertToInteractive',\n",
              "                                                     [key], {});\n",
              "          if (!dataTable) return;\n",
              "\n",
              "          const docLinkHtml = 'Like what you see? Visit the ' +\n",
              "            '<a target=\"_blank\" href=https://colab.research.google.com/notebooks/data_table.ipynb>data table notebook</a>'\n",
              "            + ' to learn more about interactive tables.';\n",
              "          element.innerHTML = '';\n",
              "          dataTable['output_type'] = 'display_data';\n",
              "          await google.colab.output.renderOutput(dataTable, element);\n",
              "          const docLink = document.createElement('div');\n",
              "          docLink.innerHTML = docLinkHtml;\n",
              "          element.appendChild(docLink);\n",
              "        }\n",
              "      </script>\n",
              "    </div>\n",
              "  </div>\n",
              "  "
            ]
          },
          "metadata": {},
          "execution_count": 63
        }
      ]
    },
    {
      "cell_type": "code",
      "source": [
        "dataset.info()"
      ],
      "metadata": {
        "colab": {
          "base_uri": "https://localhost:8080/"
        },
        "id": "SBZQDaE6wkCH",
        "outputId": "95fe5384-d855-42a9-d556-6518167c6f46"
      },
      "execution_count": 64,
      "outputs": [
        {
          "output_type": "stream",
          "name": "stdout",
          "text": [
            "<class 'pandas.core.frame.DataFrame'>\n",
            "RangeIndex: 9709 entries, 0 to 9708\n",
            "Data columns (total 20 columns):\n",
            " #   Column           Non-Null Count  Dtype  \n",
            "---  ------           --------------  -----  \n",
            " 0   ID               9709 non-null   int64  \n",
            " 1   Gender           9709 non-null   int64  \n",
            " 2   Own_car          9709 non-null   int64  \n",
            " 3   Own_property     9709 non-null   int64  \n",
            " 4   Work_phone       9709 non-null   int64  \n",
            " 5   Phone            9709 non-null   int64  \n",
            " 6   Email            9709 non-null   int64  \n",
            " 7   Unemployed       9709 non-null   int64  \n",
            " 8   Num_children     9709 non-null   int64  \n",
            " 9   Num_family       9709 non-null   int64  \n",
            " 10  Account_length   9709 non-null   int64  \n",
            " 11  Total_income     9709 non-null   float64\n",
            " 12  Age              9709 non-null   float64\n",
            " 13  Years_employed   9709 non-null   float64\n",
            " 14  Income_type      9709 non-null   object \n",
            " 15  Education_type   9709 non-null   object \n",
            " 16  Family_status    9709 non-null   object \n",
            " 17  Housing_type     9709 non-null   object \n",
            " 18  Occupation_type  9709 non-null   object \n",
            " 19  Target           9709 non-null   int64  \n",
            "dtypes: float64(3), int64(12), object(5)\n",
            "memory usage: 1.5+ MB\n"
          ]
        }
      ]
    },
    {
      "cell_type": "code",
      "source": [
        "dataset['Age'] = dataset['Age'].astype(np.int64)\n",
        "dataset['Years_employed'] = dataset['Years_employed'].astype(np.int64)"
      ],
      "metadata": {
        "id": "0AJq9YN5w_aI"
      },
      "execution_count": 65,
      "outputs": []
    },
    {
      "cell_type": "code",
      "source": [
        "dataset.describe().round(3).T"
      ],
      "metadata": {
        "colab": {
          "base_uri": "https://localhost:8080/",
          "height": 520
        },
        "id": "Y2d0tNLw4rQM",
        "outputId": "7081595c-8a20-47ef-ecac-17e1de06cc23"
      },
      "execution_count": 66,
      "outputs": [
        {
          "output_type": "execute_result",
          "data": {
            "text/plain": [
              "                 count         mean        std        min        25%  \\\n",
              "ID              9709.0  5076104.679  40802.696  5008804.0  5036955.0   \n",
              "Gender          9709.0        0.349      0.477        0.0        0.0   \n",
              "Own_car         9709.0        0.368      0.482        0.0        0.0   \n",
              "Own_property    9709.0        0.672      0.470        0.0        0.0   \n",
              "Work_phone      9709.0        0.217      0.413        0.0        0.0   \n",
              "Phone           9709.0        0.288      0.453        0.0        0.0   \n",
              "Email           9709.0        0.088      0.283        0.0        0.0   \n",
              "Unemployed      9709.0        0.175      0.380        0.0        0.0   \n",
              "Num_children    9709.0        0.423      0.767        0.0        0.0   \n",
              "Num_family      9709.0        2.183      0.933        1.0        2.0   \n",
              "Account_length  9709.0       27.270     16.648        0.0       13.0   \n",
              "Total_income    9709.0   181228.195  99277.305    27000.0   112500.0   \n",
              "Age             9709.0       43.280     11.627       20.0       34.0   \n",
              "Years_employed  9709.0        5.257      6.275        0.0        0.0   \n",
              "Target          9709.0        0.132      0.339        0.0        0.0   \n",
              "\n",
              "                      50%        75%        max  \n",
              "ID              5069449.0  5112986.0  5150479.0  \n",
              "Gender                0.0        1.0        1.0  \n",
              "Own_car               0.0        1.0        1.0  \n",
              "Own_property          1.0        1.0        1.0  \n",
              "Work_phone            0.0        0.0        1.0  \n",
              "Phone                 0.0        1.0        1.0  \n",
              "Email                 0.0        0.0        1.0  \n",
              "Unemployed            0.0        0.0        1.0  \n",
              "Num_children          0.0        1.0       19.0  \n",
              "Num_family            2.0        3.0       20.0  \n",
              "Account_length       26.0       41.0       60.0  \n",
              "Total_income     157500.0   225000.0  1575000.0  \n",
              "Age                  42.0       53.0       68.0  \n",
              "Years_employed        3.0        8.0       43.0  \n",
              "Target                0.0        0.0        1.0  "
            ],
            "text/html": [
              "\n",
              "  <div id=\"df-d1a9e6e8-1a6b-4b60-877b-60013b3d0566\">\n",
              "    <div class=\"colab-df-container\">\n",
              "      <div>\n",
              "<style scoped>\n",
              "    .dataframe tbody tr th:only-of-type {\n",
              "        vertical-align: middle;\n",
              "    }\n",
              "\n",
              "    .dataframe tbody tr th {\n",
              "        vertical-align: top;\n",
              "    }\n",
              "\n",
              "    .dataframe thead th {\n",
              "        text-align: right;\n",
              "    }\n",
              "</style>\n",
              "<table border=\"1\" class=\"dataframe\">\n",
              "  <thead>\n",
              "    <tr style=\"text-align: right;\">\n",
              "      <th></th>\n",
              "      <th>count</th>\n",
              "      <th>mean</th>\n",
              "      <th>std</th>\n",
              "      <th>min</th>\n",
              "      <th>25%</th>\n",
              "      <th>50%</th>\n",
              "      <th>75%</th>\n",
              "      <th>max</th>\n",
              "    </tr>\n",
              "  </thead>\n",
              "  <tbody>\n",
              "    <tr>\n",
              "      <th>ID</th>\n",
              "      <td>9709.0</td>\n",
              "      <td>5076104.679</td>\n",
              "      <td>40802.696</td>\n",
              "      <td>5008804.0</td>\n",
              "      <td>5036955.0</td>\n",
              "      <td>5069449.0</td>\n",
              "      <td>5112986.0</td>\n",
              "      <td>5150479.0</td>\n",
              "    </tr>\n",
              "    <tr>\n",
              "      <th>Gender</th>\n",
              "      <td>9709.0</td>\n",
              "      <td>0.349</td>\n",
              "      <td>0.477</td>\n",
              "      <td>0.0</td>\n",
              "      <td>0.0</td>\n",
              "      <td>0.0</td>\n",
              "      <td>1.0</td>\n",
              "      <td>1.0</td>\n",
              "    </tr>\n",
              "    <tr>\n",
              "      <th>Own_car</th>\n",
              "      <td>9709.0</td>\n",
              "      <td>0.368</td>\n",
              "      <td>0.482</td>\n",
              "      <td>0.0</td>\n",
              "      <td>0.0</td>\n",
              "      <td>0.0</td>\n",
              "      <td>1.0</td>\n",
              "      <td>1.0</td>\n",
              "    </tr>\n",
              "    <tr>\n",
              "      <th>Own_property</th>\n",
              "      <td>9709.0</td>\n",
              "      <td>0.672</td>\n",
              "      <td>0.470</td>\n",
              "      <td>0.0</td>\n",
              "      <td>0.0</td>\n",
              "      <td>1.0</td>\n",
              "      <td>1.0</td>\n",
              "      <td>1.0</td>\n",
              "    </tr>\n",
              "    <tr>\n",
              "      <th>Work_phone</th>\n",
              "      <td>9709.0</td>\n",
              "      <td>0.217</td>\n",
              "      <td>0.413</td>\n",
              "      <td>0.0</td>\n",
              "      <td>0.0</td>\n",
              "      <td>0.0</td>\n",
              "      <td>0.0</td>\n",
              "      <td>1.0</td>\n",
              "    </tr>\n",
              "    <tr>\n",
              "      <th>Phone</th>\n",
              "      <td>9709.0</td>\n",
              "      <td>0.288</td>\n",
              "      <td>0.453</td>\n",
              "      <td>0.0</td>\n",
              "      <td>0.0</td>\n",
              "      <td>0.0</td>\n",
              "      <td>1.0</td>\n",
              "      <td>1.0</td>\n",
              "    </tr>\n",
              "    <tr>\n",
              "      <th>Email</th>\n",
              "      <td>9709.0</td>\n",
              "      <td>0.088</td>\n",
              "      <td>0.283</td>\n",
              "      <td>0.0</td>\n",
              "      <td>0.0</td>\n",
              "      <td>0.0</td>\n",
              "      <td>0.0</td>\n",
              "      <td>1.0</td>\n",
              "    </tr>\n",
              "    <tr>\n",
              "      <th>Unemployed</th>\n",
              "      <td>9709.0</td>\n",
              "      <td>0.175</td>\n",
              "      <td>0.380</td>\n",
              "      <td>0.0</td>\n",
              "      <td>0.0</td>\n",
              "      <td>0.0</td>\n",
              "      <td>0.0</td>\n",
              "      <td>1.0</td>\n",
              "    </tr>\n",
              "    <tr>\n",
              "      <th>Num_children</th>\n",
              "      <td>9709.0</td>\n",
              "      <td>0.423</td>\n",
              "      <td>0.767</td>\n",
              "      <td>0.0</td>\n",
              "      <td>0.0</td>\n",
              "      <td>0.0</td>\n",
              "      <td>1.0</td>\n",
              "      <td>19.0</td>\n",
              "    </tr>\n",
              "    <tr>\n",
              "      <th>Num_family</th>\n",
              "      <td>9709.0</td>\n",
              "      <td>2.183</td>\n",
              "      <td>0.933</td>\n",
              "      <td>1.0</td>\n",
              "      <td>2.0</td>\n",
              "      <td>2.0</td>\n",
              "      <td>3.0</td>\n",
              "      <td>20.0</td>\n",
              "    </tr>\n",
              "    <tr>\n",
              "      <th>Account_length</th>\n",
              "      <td>9709.0</td>\n",
              "      <td>27.270</td>\n",
              "      <td>16.648</td>\n",
              "      <td>0.0</td>\n",
              "      <td>13.0</td>\n",
              "      <td>26.0</td>\n",
              "      <td>41.0</td>\n",
              "      <td>60.0</td>\n",
              "    </tr>\n",
              "    <tr>\n",
              "      <th>Total_income</th>\n",
              "      <td>9709.0</td>\n",
              "      <td>181228.195</td>\n",
              "      <td>99277.305</td>\n",
              "      <td>27000.0</td>\n",
              "      <td>112500.0</td>\n",
              "      <td>157500.0</td>\n",
              "      <td>225000.0</td>\n",
              "      <td>1575000.0</td>\n",
              "    </tr>\n",
              "    <tr>\n",
              "      <th>Age</th>\n",
              "      <td>9709.0</td>\n",
              "      <td>43.280</td>\n",
              "      <td>11.627</td>\n",
              "      <td>20.0</td>\n",
              "      <td>34.0</td>\n",
              "      <td>42.0</td>\n",
              "      <td>53.0</td>\n",
              "      <td>68.0</td>\n",
              "    </tr>\n",
              "    <tr>\n",
              "      <th>Years_employed</th>\n",
              "      <td>9709.0</td>\n",
              "      <td>5.257</td>\n",
              "      <td>6.275</td>\n",
              "      <td>0.0</td>\n",
              "      <td>0.0</td>\n",
              "      <td>3.0</td>\n",
              "      <td>8.0</td>\n",
              "      <td>43.0</td>\n",
              "    </tr>\n",
              "    <tr>\n",
              "      <th>Target</th>\n",
              "      <td>9709.0</td>\n",
              "      <td>0.132</td>\n",
              "      <td>0.339</td>\n",
              "      <td>0.0</td>\n",
              "      <td>0.0</td>\n",
              "      <td>0.0</td>\n",
              "      <td>0.0</td>\n",
              "      <td>1.0</td>\n",
              "    </tr>\n",
              "  </tbody>\n",
              "</table>\n",
              "</div>\n",
              "      <button class=\"colab-df-convert\" onclick=\"convertToInteractive('df-d1a9e6e8-1a6b-4b60-877b-60013b3d0566')\"\n",
              "              title=\"Convert this dataframe to an interactive table.\"\n",
              "              style=\"display:none;\">\n",
              "        \n",
              "  <svg xmlns=\"http://www.w3.org/2000/svg\" height=\"24px\"viewBox=\"0 0 24 24\"\n",
              "       width=\"24px\">\n",
              "    <path d=\"M0 0h24v24H0V0z\" fill=\"none\"/>\n",
              "    <path d=\"M18.56 5.44l.94 2.06.94-2.06 2.06-.94-2.06-.94-.94-2.06-.94 2.06-2.06.94zm-11 1L8.5 8.5l.94-2.06 2.06-.94-2.06-.94L8.5 2.5l-.94 2.06-2.06.94zm10 10l.94 2.06.94-2.06 2.06-.94-2.06-.94-.94-2.06-.94 2.06-2.06.94z\"/><path d=\"M17.41 7.96l-1.37-1.37c-.4-.4-.92-.59-1.43-.59-.52 0-1.04.2-1.43.59L10.3 9.45l-7.72 7.72c-.78.78-.78 2.05 0 2.83L4 21.41c.39.39.9.59 1.41.59.51 0 1.02-.2 1.41-.59l7.78-7.78 2.81-2.81c.8-.78.8-2.07 0-2.86zM5.41 20L4 18.59l7.72-7.72 1.47 1.35L5.41 20z\"/>\n",
              "  </svg>\n",
              "      </button>\n",
              "      \n",
              "  <style>\n",
              "    .colab-df-container {\n",
              "      display:flex;\n",
              "      flex-wrap:wrap;\n",
              "      gap: 12px;\n",
              "    }\n",
              "\n",
              "    .colab-df-convert {\n",
              "      background-color: #E8F0FE;\n",
              "      border: none;\n",
              "      border-radius: 50%;\n",
              "      cursor: pointer;\n",
              "      display: none;\n",
              "      fill: #1967D2;\n",
              "      height: 32px;\n",
              "      padding: 0 0 0 0;\n",
              "      width: 32px;\n",
              "    }\n",
              "\n",
              "    .colab-df-convert:hover {\n",
              "      background-color: #E2EBFA;\n",
              "      box-shadow: 0px 1px 2px rgba(60, 64, 67, 0.3), 0px 1px 3px 1px rgba(60, 64, 67, 0.15);\n",
              "      fill: #174EA6;\n",
              "    }\n",
              "\n",
              "    [theme=dark] .colab-df-convert {\n",
              "      background-color: #3B4455;\n",
              "      fill: #D2E3FC;\n",
              "    }\n",
              "\n",
              "    [theme=dark] .colab-df-convert:hover {\n",
              "      background-color: #434B5C;\n",
              "      box-shadow: 0px 1px 3px 1px rgba(0, 0, 0, 0.15);\n",
              "      filter: drop-shadow(0px 1px 2px rgba(0, 0, 0, 0.3));\n",
              "      fill: #FFFFFF;\n",
              "    }\n",
              "  </style>\n",
              "\n",
              "      <script>\n",
              "        const buttonEl =\n",
              "          document.querySelector('#df-d1a9e6e8-1a6b-4b60-877b-60013b3d0566 button.colab-df-convert');\n",
              "        buttonEl.style.display =\n",
              "          google.colab.kernel.accessAllowed ? 'block' : 'none';\n",
              "\n",
              "        async function convertToInteractive(key) {\n",
              "          const element = document.querySelector('#df-d1a9e6e8-1a6b-4b60-877b-60013b3d0566');\n",
              "          const dataTable =\n",
              "            await google.colab.kernel.invokeFunction('convertToInteractive',\n",
              "                                                     [key], {});\n",
              "          if (!dataTable) return;\n",
              "\n",
              "          const docLinkHtml = 'Like what you see? Visit the ' +\n",
              "            '<a target=\"_blank\" href=https://colab.research.google.com/notebooks/data_table.ipynb>data table notebook</a>'\n",
              "            + ' to learn more about interactive tables.';\n",
              "          element.innerHTML = '';\n",
              "          dataTable['output_type'] = 'display_data';\n",
              "          await google.colab.output.renderOutput(dataTable, element);\n",
              "          const docLink = document.createElement('div');\n",
              "          docLink.innerHTML = docLinkHtml;\n",
              "          element.appendChild(docLink);\n",
              "        }\n",
              "      </script>\n",
              "    </div>\n",
              "  </div>\n",
              "  "
            ]
          },
          "metadata": {},
          "execution_count": 66
        }
      ]
    },
    {
      "cell_type": "markdown",
      "source": [
        "relação de aprovados e não aprovados com o numero de filhos"
      ],
      "metadata": {
        "id": "BTtn1ZRzbB3V"
      }
    },
    {
      "cell_type": "code",
      "source": [
        "ch_ap = dataset.value_counts(subset=['Num_children', 'Target'])"
      ],
      "metadata": {
        "id": "rXHfL0Pb-2Aq"
      },
      "execution_count": 67,
      "outputs": []
    },
    {
      "cell_type": "code",
      "source": [
        "ch_ap.sort_index()"
      ],
      "metadata": {
        "colab": {
          "base_uri": "https://localhost:8080/"
        },
        "id": "QrOxwNFsBxD2",
        "outputId": "f1e54461-b25e-4408-fa8b-1f742417b394"
      },
      "execution_count": 68,
      "outputs": [
        {
          "output_type": "execute_result",
          "data": {
            "text/plain": [
              "Num_children  Target\n",
              "0             0         5941\n",
              "              1          878\n",
              "1             0         1627\n",
              "              1          259\n",
              "2             0          722\n",
              "              1          130\n",
              "3             0          112\n",
              "              1           14\n",
              "4             0           17\n",
              "              1            1\n",
              "5             0            5\n",
              "7             1            1\n",
              "14            0            1\n",
              "19            0            1\n",
              "dtype: int64"
            ]
          },
          "metadata": {},
          "execution_count": 68
        }
      ]
    },
    {
      "cell_type": "markdown",
      "source": [
        "relação de aprovados e não aprovados com o gênero"
      ],
      "metadata": {
        "id": "RPcJUavQgCmf"
      }
    },
    {
      "cell_type": "code",
      "source": [
        "dataset.value_counts(subset=['Gender', 'Target']).sort_index()"
      ],
      "metadata": {
        "colab": {
          "base_uri": "https://localhost:8080/"
        },
        "id": "ws-tFlHBIgp4",
        "outputId": "6908e5a9-6791-4798-d139-f45a2c6d0d56"
      },
      "execution_count": 69,
      "outputs": [
        {
          "output_type": "execute_result",
          "data": {
            "text/plain": [
              "Gender  Target\n",
              "0       0         5511\n",
              "        1          812\n",
              "1       0         2915\n",
              "        1          471\n",
              "dtype: int64"
            ]
          },
          "metadata": {},
          "execution_count": 69
        }
      ]
    },
    {
      "cell_type": "markdown",
      "source": [
        "relação de aprovados e não aprovados com a idade"
      ],
      "metadata": {
        "id": "5sZPcmG1gQDa"
      }
    },
    {
      "cell_type": "code",
      "source": [
        "age_min = dataset['Age'].min()\n",
        "rotulos = ['jovem', 'adulto', 'idoso']\n",
        "classes = [age_min, 29, 59, np.inf]"
      ],
      "metadata": {
        "id": "O-xI5zCiLkEb"
      },
      "execution_count": 70,
      "outputs": []
    },
    {
      "cell_type": "code",
      "source": [
        "dataset['Age_class'] = pd.cut(x=dataset['Age'], bins=classes, labels=rotulos, include_lowest=True)"
      ],
      "metadata": {
        "id": "L6fyIfMrLqNR"
      },
      "execution_count": 71,
      "outputs": []
    },
    {
      "cell_type": "code",
      "source": [
        "dataset.value_counts(subset=['Age_class', 'Target']).sort_index()"
      ],
      "metadata": {
        "colab": {
          "base_uri": "https://localhost:8080/"
        },
        "id": "pjMjJVdVOcwd",
        "outputId": "38772f70-8948-4cde-90ae-ec8f5639e242"
      },
      "execution_count": 72,
      "outputs": [
        {
          "output_type": "execute_result",
          "data": {
            "text/plain": [
              "Age_class  Target\n",
              "jovem      0         1140\n",
              "           1          210\n",
              "adulto     0         6375\n",
              "           1          963\n",
              "idoso      0          911\n",
              "           1          110\n",
              "dtype: int64"
            ]
          },
          "metadata": {},
          "execution_count": 72
        }
      ]
    },
    {
      "cell_type": "code",
      "source": [
        "sns.countplot(x='Age_class', data=dataset)"
      ],
      "metadata": {
        "colab": {
          "base_uri": "https://localhost:8080/",
          "height": 297
        },
        "id": "aRhclMA0dl9O",
        "outputId": "05bd8d9d-b557-4cb0-a829-7e5d11497dfd"
      },
      "execution_count": 73,
      "outputs": [
        {
          "output_type": "execute_result",
          "data": {
            "text/plain": [
              "<matplotlib.axes._subplots.AxesSubplot at 0x7f55619a6950>"
            ]
          },
          "metadata": {},
          "execution_count": 73
        },
        {
          "output_type": "display_data",
          "data": {
            "text/plain": [
              "<Figure size 432x288 with 1 Axes>"
            ],
            "image/png": "[encoded data removed]"
          },
          "metadata": {
            "needs_background": "light"
          }
        }
      ]
    },
    {
      "cell_type": "markdown",
      "source": [
        "Preparando os dados para algoritmos de machine learning"
      ],
      "metadata": {
        "id": "AnvzXvAEa65M"
      }
    },
    {
      "cell_type": "code",
      "source": [
        "cat = ['Income_type', 'Education_type', 'Family_status', 'Housing_type', 'Occupation_type']\n",
        "dataset[cat]"
      ],
      "metadata": {
        "colab": {
          "base_uri": "https://localhost:8080/",
          "height": 424
        },
        "id": "X9zrGv0d0Tbq",
        "outputId": "2273be7f-c180-40a4-d2d3-dcfa7d7eaf49"
      },
      "execution_count": 74,
      "outputs": [
        {
          "output_type": "execute_result",
          "data": {
            "text/plain": [
              "               Income_type                 Education_type  \\\n",
              "0                  Working               Higher education   \n",
              "1                  Working  Secondary / secondary special   \n",
              "2     Commercial associate  Secondary / secondary special   \n",
              "3                Pensioner               Higher education   \n",
              "4                  Working               Higher education   \n",
              "...                    ...                            ...   \n",
              "9704             Pensioner  Secondary / secondary special   \n",
              "9705  Commercial associate  Secondary / secondary special   \n",
              "9706               Working  Secondary / secondary special   \n",
              "9707             Pensioner               Higher education   \n",
              "9708               Working  Secondary / secondary special   \n",
              "\n",
              "             Family_status         Housing_type Occupation_type  \n",
              "0           Civil marriage     Rented apartment           Other  \n",
              "1                  Married    House / apartment  Security staff  \n",
              "2     Single / not married    House / apartment     Sales staff  \n",
              "3                Separated    House / apartment           Other  \n",
              "4                  Married    House / apartment     Accountants  \n",
              "...                    ...                  ...             ...  \n",
              "9704        Civil marriage  Municipal apartment        Laborers  \n",
              "9705               Married    House / apartment           Other  \n",
              "9706               Married    House / apartment           Other  \n",
              "9707               Married    House / apartment  Medicine staff  \n",
              "9708  Single / not married     Rented apartment        Laborers  \n",
              "\n",
              "[9709 rows x 5 columns]"
            ],
            "text/html": [
              "\n",
              "  <div id=\"df-bae70247-a6fe-489c-aee9-f303aa02211e\">\n",
              "    <div class=\"colab-df-container\">\n",
              "      <div>\n",
              "<style scoped>\n",
              "    .dataframe tbody tr th:only-of-type {\n",
              "        vertical-align: middle;\n",
              "    }\n",
              "\n",
              "    .dataframe tbody tr th {\n",
              "        vertical-align: top;\n",
              "    }\n",
              "\n",
              "    .dataframe thead th {\n",
              "        text-align: right;\n",
              "    }\n",
              "</style>\n",
              "<table border=\"1\" class=\"dataframe\">\n",
              "  <thead>\n",
              "    <tr style=\"text-align: right;\">\n",
              "      <th></th>\n",
              "      <th>Income_type</th>\n",
              "      <th>Education_type</th>\n",
              "      <th>Family_status</th>\n",
              "      <th>Housing_type</th>\n",
              "      <th>Occupation_type</th>\n",
              "    </tr>\n",
              "  </thead>\n",
              "  <tbody>\n",
              "    <tr>\n",
              "      <th>0</th>\n",
              "      <td>Working</td>\n",
              "      <td>Higher education</td>\n",
              "      <td>Civil marriage</td>\n",
              "      <td>Rented apartment</td>\n",
              "      <td>Other</td>\n",
              "    </tr>\n",
              "    <tr>\n",
              "      <th>1</th>\n",
              "      <td>Working</td>\n",
              "      <td>Secondary / secondary special</td>\n",
              "      <td>Married</td>\n",
              "      <td>House / apartment</td>\n",
              "      <td>Security staff</td>\n",
              "    </tr>\n",
              "    <tr>\n",
              "      <th>2</th>\n",
              "      <td>Commercial associate</td>\n",
              "      <td>Secondary / secondary special</td>\n",
              "      <td>Single / not married</td>\n",
              "      <td>House / apartment</td>\n",
              "      <td>Sales staff</td>\n",
              "    </tr>\n",
              "    <tr>\n",
              "      <th>3</th>\n",
              "      <td>Pensioner</td>\n",
              "      <td>Higher education</td>\n",
              "      <td>Separated</td>\n",
              "      <td>House / apartment</td>\n",
              "      <td>Other</td>\n",
              "    </tr>\n",
              "    <tr>\n",
              "      <th>4</th>\n",
              "      <td>Working</td>\n",
              "      <td>Higher education</td>\n",
              "      <td>Married</td>\n",
              "      <td>House / apartment</td>\n",
              "      <td>Accountants</td>\n",
              "    </tr>\n",
              "    <tr>\n",
              "      <th>...</th>\n",
              "      <td>...</td>\n",
              "      <td>...</td>\n",
              "      <td>...</td>\n",
              "      <td>...</td>\n",
              "      <td>...</td>\n",
              "    </tr>\n",
              "    <tr>\n",
              "      <th>9704</th>\n",
              "      <td>Pensioner</td>\n",
              "      <td>Secondary / secondary special</td>\n",
              "      <td>Civil marriage</td>\n",
              "      <td>Municipal apartment</td>\n",
              "      <td>Laborers</td>\n",
              "    </tr>\n",
              "    <tr>\n",
              "      <th>9705</th>\n",
              "      <td>Commercial associate</td>\n",
              "      <td>Secondary / secondary special</td>\n",
              "      <td>Married</td>\n",
              "      <td>House / apartment</td>\n",
              "      <td>Other</td>\n",
              "    </tr>\n",
              "    <tr>\n",
              "      <th>9706</th>\n",
              "      <td>Working</td>\n",
              "      <td>Secondary / secondary special</td>\n",
              "      <td>Married</td>\n",
              "      <td>House / apartment</td>\n",
              "      <td>Other</td>\n",
              "    </tr>\n",
              "    <tr>\n",
              "      <th>9707</th>\n",
              "      <td>Pensioner</td>\n",
              "      <td>Higher education</td>\n",
              "      <td>Married</td>\n",
              "      <td>House / apartment</td>\n",
              "      <td>Medicine staff</td>\n",
              "    </tr>\n",
              "    <tr>\n",
              "      <th>9708</th>\n",
              "      <td>Working</td>\n",
              "      <td>Secondary / secondary special</td>\n",
              "      <td>Single / not married</td>\n",
              "      <td>Rented apartment</td>\n",
              "      <td>Laborers</td>\n",
              "    </tr>\n",
              "  </tbody>\n",
              "</table>\n",
              "<p>9709 rows × 5 columns</p>\n",
              "</div>\n",
              "      <button class=\"colab-df-convert\" onclick=\"convertToInteractive('df-bae70247-a6fe-489c-aee9-f303aa02211e')\"\n",
              "              title=\"Convert this dataframe to an interactive table.\"\n",
              "              style=\"display:none;\">\n",
              "        \n",
              "  <svg xmlns=\"http://www.w3.org/2000/svg\" height=\"24px\"viewBox=\"0 0 24 24\"\n",
              "       width=\"24px\">\n",
              "    <path d=\"M0 0h24v24H0V0z\" fill=\"none\"/>\n",
              "    <path d=\"M18.56 5.44l.94 2.06.94-2.06 2.06-.94-2.06-.94-.94-2.06-.94 2.06-2.06.94zm-11 1L8.5 8.5l.94-2.06 2.06-.94-2.06-.94L8.5 2.5l-.94 2.06-2.06.94zm10 10l.94 2.06.94-2.06 2.06-.94-2.06-.94-.94-2.06-.94 2.06-2.06.94z\"/><path d=\"M17.41 7.96l-1.37-1.37c-.4-.4-.92-.59-1.43-.59-.52 0-1.04.2-1.43.59L10.3 9.45l-7.72 7.72c-.78.78-.78 2.05 0 2.83L4 21.41c.39.39.9.59 1.41.59.51 0 1.02-.2 1.41-.59l7.78-7.78 2.81-2.81c.8-.78.8-2.07 0-2.86zM5.41 20L4 18.59l7.72-7.72 1.47 1.35L5.41 20z\"/>\n",
              "  </svg>\n",
              "      </button>\n",
              "      \n",
              "  <style>\n",
              "    .colab-df-container {\n",
              "      display:flex;\n",
              "      flex-wrap:wrap;\n",
              "      gap: 12px;\n",
              "    }\n",
              "\n",
              "    .colab-df-convert {\n",
              "      background-color: #E8F0FE;\n",
              "      border: none;\n",
              "      border-radius: 50%;\n",
              "      cursor: pointer;\n",
              "      display: none;\n",
              "      fill: #1967D2;\n",
              "      height: 32px;\n",
              "      padding: 0 0 0 0;\n",
              "      width: 32px;\n",
              "    }\n",
              "\n",
              "    .colab-df-convert:hover {\n",
              "      background-color: #E2EBFA;\n",
              "      box-shadow: 0px 1px 2px rgba(60, 64, 67, 0.3), 0px 1px 3px 1px rgba(60, 64, 67, 0.15);\n",
              "      fill: #174EA6;\n",
              "    }\n",
              "\n",
              "    [theme=dark] .colab-df-convert {\n",
              "      background-color: #3B4455;\n",
              "      fill: #D2E3FC;\n",
              "    }\n",
              "\n",
              "    [theme=dark] .colab-df-convert:hover {\n",
              "      background-color: #434B5C;\n",
              "      box-shadow: 0px 1px 3px 1px rgba(0, 0, 0, 0.15);\n",
              "      filter: drop-shadow(0px 1px 2px rgba(0, 0, 0, 0.3));\n",
              "      fill: #FFFFFF;\n",
              "    }\n",
              "  </style>\n",
              "\n",
              "      <script>\n",
              "        const buttonEl =\n",
              "          document.querySelector('#df-bae70247-a6fe-489c-aee9-f303aa02211e button.colab-df-convert');\n",
              "        buttonEl.style.display =\n",
              "          google.colab.kernel.accessAllowed ? 'block' : 'none';\n",
              "\n",
              "        async function convertToInteractive(key) {\n",
              "          const element = document.querySelector('#df-bae70247-a6fe-489c-aee9-f303aa02211e');\n",
              "          const dataTable =\n",
              "            await google.colab.kernel.invokeFunction('convertToInteractive',\n",
              "                                                     [key], {});\n",
              "          if (!dataTable) return;\n",
              "\n",
              "          const docLinkHtml = 'Like what you see? Visit the ' +\n",
              "            '<a target=\"_blank\" href=https://colab.research.google.com/notebooks/data_table.ipynb>data table notebook</a>'\n",
              "            + ' to learn more about interactive tables.';\n",
              "          element.innerHTML = '';\n",
              "          dataTable['output_type'] = 'display_data';\n",
              "          await google.colab.output.renderOutput(dataTable, element);\n",
              "          const docLink = document.createElement('div');\n",
              "          docLink.innerHTML = docLinkHtml;\n",
              "          element.appendChild(docLink);\n",
              "        }\n",
              "      </script>\n",
              "    </div>\n",
              "  </div>\n",
              "  "
            ]
          },
          "metadata": {},
          "execution_count": 74
        }
      ]
    },
    {
      "cell_type": "code",
      "source": [
        "for c in cat:\n",
        "  print(f\"{c} ---> {','.join(dataset[c].unique())}\")"
      ],
      "metadata": {
        "colab": {
          "base_uri": "https://localhost:8080/"
        },
        "id": "lN5ACVcr0dJk",
        "outputId": "30dd238b-652b-495e-bdf7-080f2dbd2715"
      },
      "execution_count": 75,
      "outputs": [
        {
          "output_type": "stream",
          "name": "stdout",
          "text": [
            "Income_type ---> Working,Commercial associate,Pensioner,State servant,Student\n",
            "Education_type ---> Higher education,Secondary / secondary special,Incomplete higher,Lower secondary,Academic degree\n",
            "Family_status ---> Civil marriage,Married,Single / not married,Separated,Widow\n",
            "Housing_type ---> Rented apartment,House / apartment,Municipal apartment,With parents,Co-op apartment,Office apartment\n",
            "Occupation_type ---> Other,Security staff,Sales staff,Accountants,Laborers,Managers,Drivers,Core staff,High skill tech staff,Cleaning staff,Private service staff,Cooking staff,Low-skill Laborers,Medicine staff,Secretaries,Waiters/barmen staff,HR staff,Realty agents,IT staff\n"
          ]
        }
      ]
    },
    {
      "cell_type": "markdown",
      "source": [
        "diminuindo as classes de algumas variaveis"
      ],
      "metadata": {
        "id": "3frjxsqlnPAX"
      }
    },
    {
      "cell_type": "code",
      "source": [
        "f_status = {\n",
        "    'Married': 'Married',\n",
        "    'Civil marriage': 'Married',\n",
        "    'Single / not married': 'Single',\n",
        "    'Separated': 'Single',\n",
        "    'Widow': 'Single'\n",
        "}\n",
        "\n",
        "h_type = {\n",
        "    'Rented apartment': 'not_owner',\n",
        "    'House / apartment': 'owner',\n",
        "    'Municipal apartment': 'not_owner',\n",
        "    'With parents': 'not_owner',\n",
        "    'Co-op apartment': 'not_owner',\n",
        "    'Office apartment': 'not_owner'\n",
        "}\n",
        "\n",
        "dataset['Family_status'] = dataset['Family_status'].map(f_status)\n",
        "dataset['Housing_type'] = dataset['Housing_type'].map(h_type)"
      ],
      "metadata": {
        "id": "y-Wf0-9O02qJ"
      },
      "execution_count": 76,
      "outputs": []
    },
    {
      "cell_type": "code",
      "source": [
        "dataset.drop(labels=['ID', 'Age_class'], axis=1, inplace=True)"
      ],
      "metadata": {
        "id": "I8QWM1HfPu6K"
      },
      "execution_count": 77,
      "outputs": []
    },
    {
      "cell_type": "code",
      "source": [
        "x_train, x_test = train_test_split(dataset, test_size=0.2, random_state=42, stratify=dataset['Target'])"
      ],
      "metadata": {
        "id": "-VizYIA6e4-g"
      },
      "execution_count": 78,
      "outputs": []
    },
    {
      "cell_type": "code",
      "source": [
        "dataset['Target'].value_counts() / dataset.shape[0]"
      ],
      "metadata": {
        "colab": {
          "base_uri": "https://localhost:8080/"
        },
        "id": "hwesrEV9qPQl",
        "outputId": "503ac9ba-435a-4013-f11b-e5c56fca35b8"
      },
      "execution_count": 79,
      "outputs": [
        {
          "output_type": "execute_result",
          "data": {
            "text/plain": [
              "0    0.867855\n",
              "1    0.132145\n",
              "Name: Target, dtype: float64"
            ]
          },
          "metadata": {},
          "execution_count": 79
        }
      ]
    },
    {
      "cell_type": "code",
      "source": [
        "x_train['Target'].value_counts() / x_train.shape[0]"
      ],
      "metadata": {
        "colab": {
          "base_uri": "https://localhost:8080/"
        },
        "id": "KRciO-77fcNh",
        "outputId": "7fbc3238-d441-44e5-d6c6-c438547df231"
      },
      "execution_count": 80,
      "outputs": [
        {
          "output_type": "execute_result",
          "data": {
            "text/plain": [
              "0    0.867903\n",
              "1    0.132097\n",
              "Name: Target, dtype: float64"
            ]
          },
          "metadata": {},
          "execution_count": 80
        }
      ]
    },
    {
      "cell_type": "code",
      "source": [
        "y_train = x_train['Target']"
      ],
      "metadata": {
        "id": "n5WK_e64bVpM"
      },
      "execution_count": 81,
      "outputs": []
    },
    {
      "cell_type": "markdown",
      "source": [
        "codificando variaveis com OneHotEncoder"
      ],
      "metadata": {
        "id": "nhQZqXKSmgFU"
      }
    },
    {
      "cell_type": "code",
      "source": [
        "num = ['Total_income']\n",
        "cat = ['Income_type', 'Education_type', 'Family_status', 'Housing_type', 'Occupation_type']"
      ],
      "metadata": {
        "id": "cpyxg3q8azC5"
      },
      "execution_count": 82,
      "outputs": []
    },
    {
      "cell_type": "code",
      "source": [
        "standard = StandardScaler()\n",
        "one_encoder = OneHotEncoder()\n",
        "\n",
        "full_pipeline = ColumnTransformer([\n",
        "                                   ('numeric', standard, num),\n",
        "                                   ('one_hot', one_encoder, cat)\n",
        "])\n",
        "x_train_one_hot = full_pipeline.fit_transform(x_train)\n",
        "x_train_one_hot = x_train_one_hot.toarray()"
      ],
      "metadata": {
        "id": "ikJPyiJhZkLk"
      },
      "execution_count": 83,
      "outputs": []
    },
    {
      "cell_type": "markdown",
      "source": [
        "avaliando modelos de ML"
      ],
      "metadata": {
        "id": "bE7OOjqbCX1t"
      }
    },
    {
      "cell_type": "markdown",
      "source": [
        "Base line"
      ],
      "metadata": {
        "id": "sJh7WduOD1Kw"
      }
    },
    {
      "cell_type": "code",
      "source": [
        "def metrics(real, predict):\n",
        "  matrix_confusion = confusion_matrix(real, predict)\n",
        "  ax = sns.heatmap(matrix_confusion, annot=True, fmt='d')\n",
        "  ax.set_ylabel('Real', fontsize=14)\n",
        "  ax.set_xlabel('Previsto', fontsize=14)\n",
        "  print(f'Precisão: {precision_score(real, predict)}')\n",
        "  print(f'Revocação: {recall_score(real, predict)}')\n",
        "  print(f'f1-score: {f1_score(real, predict)}')"
      ],
      "metadata": {
        "id": "Ltl8zyOUJspv"
      },
      "execution_count": 84,
      "outputs": []
    },
    {
      "cell_type": "code",
      "source": [
        "dummy = DummyClassifier(strategy='stratified')\n",
        "dummy.fit(x_train_one_hot, y_train)\n",
        "dummy.score(x_train_one_hot, y_train)"
      ],
      "metadata": {
        "colab": {
          "base_uri": "https://localhost:8080/"
        },
        "id": "_7ilLj6lm0QB",
        "outputId": "c4d53413-8060-465f-c3b7-f294426bc61a"
      },
      "execution_count": 85,
      "outputs": [
        {
          "output_type": "execute_result",
          "data": {
            "text/plain": [
              "0.7748165314793356"
            ]
          },
          "metadata": {},
          "execution_count": 85
        }
      ]
    },
    {
      "cell_type": "code",
      "source": [
        "scores = cross_val_score(dummy, x_train_one_hot, y_train, cv=5)\n",
        "print(scores.mean())"
      ],
      "metadata": {
        "colab": {
          "base_uri": "https://localhost:8080/"
        },
        "id": "cMVsNoHEDdoh",
        "outputId": "0ae5c46a-161e-4e21-fa6f-e009ed5bc64f"
      },
      "execution_count": 86,
      "outputs": [
        {
          "output_type": "stream",
          "name": "stdout",
          "text": [
            "0.7645179629081755\n"
          ]
        }
      ]
    },
    {
      "cell_type": "code",
      "source": [
        "predicts = cross_val_predict(dummy, x_train_one_hot, y_train, cv=5)\n",
        "metrics(y_train, predicts)"
      ],
      "metadata": {
        "id": "k1UY8TaJEG8e",
        "colab": {
          "base_uri": "https://localhost:8080/",
          "height": 335
        },
        "outputId": "344225fd-9db8-49d0-9d30-395c7a85039a"
      },
      "execution_count": 87,
      "outputs": [
        {
          "output_type": "stream",
          "name": "stdout",
          "text": [
            "Precisão: 0.1287223823246878\n",
            "Revocação: 0.13060428849902533\n",
            "f1-score: 0.12965650701499756\n"
          ]
        },
        {
          "output_type": "display_data",
          "data": {
            "text/plain": [
              "<Figure size 432x288 with 2 Axes>"
            ],
            "image/png": "[encoded data removed]"
          },
          "metadata": {
            "needs_background": "light"
          }
        }
      ]
    },
    {
      "cell_type": "markdown",
      "source": [
        "Arvore de decisão"
      ],
      "metadata": {
        "id": "xg3gZtJgAxHH"
      }
    },
    {
      "cell_type": "code",
      "source": [
        "params = {\n",
        "    'criterion': ['gini', 'entropy'],\n",
        "    'max_depth':[5, 7, 9],\n",
        "    'min_samples_split': [2, 4, 6],\n",
        "    'min_samples_leaf': [2, 4, 6]\n",
        "}\n",
        "\n",
        "gridcv = GridSearchCV(DecisionTreeClassifier(), params, cv=5)\n",
        "gridcv.fit(x_train_one_hot, y_train)"
      ],
      "metadata": {
        "colab": {
          "base_uri": "https://localhost:8080/"
        },
        "id": "ZPrVj6C8hGcm",
        "outputId": "fd60ca7e-f1c7-4dcb-e990-60a67dd6056c"
      },
      "execution_count": 88,
      "outputs": [
        {
          "output_type": "execute_result",
          "data": {
            "text/plain": [
              "GridSearchCV(cv=5, estimator=DecisionTreeClassifier(),\n",
              "             param_grid={'criterion': ['gini', 'entropy'],\n",
              "                         'max_depth': [5, 7, 9], 'min_samples_leaf': [2, 4, 6],\n",
              "                         'min_samples_split': [2, 4, 6]})"
            ]
          },
          "metadata": {},
          "execution_count": 88
        }
      ]
    },
    {
      "cell_type": "code",
      "source": [
        "gridcv.best_params_"
      ],
      "metadata": {
        "colab": {
          "base_uri": "https://localhost:8080/"
        },
        "id": "9vVlhNaciiJz",
        "outputId": "7b61ae58-e03e-4bcd-eb52-eaa9057ccf42"
      },
      "execution_count": 89,
      "outputs": [
        {
          "output_type": "execute_result",
          "data": {
            "text/plain": [
              "{'criterion': 'gini',\n",
              " 'max_depth': 5,\n",
              " 'min_samples_leaf': 2,\n",
              " 'min_samples_split': 6}"
            ]
          },
          "metadata": {},
          "execution_count": 89
        }
      ]
    },
    {
      "cell_type": "code",
      "source": [
        "gridcv.best_score_"
      ],
      "metadata": {
        "colab": {
          "base_uri": "https://localhost:8080/"
        },
        "id": "kWdYv-aPirz9",
        "outputId": "3e73ebfd-d7ad-4c01-c548-56c01672e4b0"
      },
      "execution_count": 90,
      "outputs": [
        {
          "output_type": "execute_result",
          "data": {
            "text/plain": [
              "0.8679027017082394"
            ]
          },
          "metadata": {},
          "execution_count": 90
        }
      ]
    },
    {
      "cell_type": "markdown",
      "source": [
        "algo interessante de observar é que o score obtido pela acurácia trás um valor alto, isso é da natureza da acurácia. antes de tomar alguma decisão é importante observar outras métricas como a precisão e a revocação."
      ],
      "metadata": {
        "id": "tvSLMhFWa9QR"
      }
    },
    {
      "cell_type": "code",
      "source": [
        "best_model = gridcv.best_estimator_\n",
        "predict_tree = cross_val_predict(best_model, x_train_one_hot, y_train, cv=5)\n",
        "metrics(y_train, predict_tree)"
      ],
      "metadata": {
        "id": "_h0KAZTCK362",
        "colab": {
          "base_uri": "https://localhost:8080/",
          "height": 335
        },
        "outputId": "fa5b6233-363f-4137-9273-b8d2c7924895"
      },
      "execution_count": 91,
      "outputs": [
        {
          "output_type": "stream",
          "name": "stdout",
          "text": [
            "Precisão: 0.5\n",
            "Revocação: 0.0029239766081871343\n",
            "f1-score: 0.005813953488372093\n"
          ]
        },
        {
          "output_type": "display_data",
          "data": {
            "text/plain": [
              "<Figure size 432x288 with 2 Axes>"
            ],
            "image/png": "[encoded data removed]"
          },
          "metadata": {
            "needs_background": "light"
          }
        }
      ]
    },
    {
      "cell_type": "markdown",
      "source": [
        "o f1-score  é a média harmônica da precisão e revocação"
      ],
      "metadata": {
        "id": "YfbiGd4Lb4ag"
      }
    },
    {
      "cell_type": "markdown",
      "source": [
        "um detalhe interessante é que há um desequilibrio entre as classes, isso pode ter influenciado negativamente o resultado. vou ajustar isso"
      ],
      "metadata": {
        "id": "xEaQmxCoAteP"
      }
    },
    {
      "cell_type": "markdown",
      "source": [
        "dados originais"
      ],
      "metadata": {
        "id": "ifpbn8_Mcdbi"
      }
    },
    {
      "cell_type": "code",
      "source": [
        "sns.countplot(x=y_train)"
      ],
      "metadata": {
        "colab": {
          "base_uri": "https://localhost:8080/",
          "height": 298
        },
        "id": "7bVeT8Z2BQJe",
        "outputId": "f0e46335-27a4-455b-9f34-11b3ee8563b9"
      },
      "execution_count": 92,
      "outputs": [
        {
          "output_type": "execute_result",
          "data": {
            "text/plain": [
              "<matplotlib.axes._subplots.AxesSubplot at 0x7f55617dbe10>"
            ]
          },
          "metadata": {},
          "execution_count": 92
        },
        {
          "output_type": "display_data",
          "data": {
            "text/plain": [
              "<Figure size 432x288 with 1 Axes>"
            ],
            "image/png": "[encoded data removed]"
          },
          "metadata": {
            "needs_background": "light"
          }
        }
      ]
    },
    {
      "cell_type": "markdown",
      "source": [
        "geracão de registros sintéticos"
      ],
      "metadata": {
        "id": "CsRvo7gTcgeE"
      }
    },
    {
      "cell_type": "code",
      "source": [
        "sm = SMOTEN(sampling_strategy=0.6, random_state=42)\n",
        "x_resample, y_resample = sm.fit_resample(x_train, y_train)"
      ],
      "metadata": {
        "id": "e9HExPAGBgDa"
      },
      "execution_count": 93,
      "outputs": []
    },
    {
      "cell_type": "markdown",
      "source": [
        "dados após a geração de dados sintéticos"
      ],
      "metadata": {
        "id": "54zLRLHCcnQk"
      }
    },
    {
      "cell_type": "code",
      "source": [
        "sns.countplot(x=y_resample)"
      ],
      "metadata": {
        "colab": {
          "base_uri": "https://localhost:8080/",
          "height": 298
        },
        "id": "BF4QyzfpBprk",
        "outputId": "05b65639-dfaf-41b9-fcd3-329af0a87764"
      },
      "execution_count": 94,
      "outputs": [
        {
          "output_type": "execute_result",
          "data": {
            "text/plain": [
              "<matplotlib.axes._subplots.AxesSubplot at 0x7f55617a9a90>"
            ]
          },
          "metadata": {},
          "execution_count": 94
        },
        {
          "output_type": "display_data",
          "data": {
            "text/plain": [
              "<Figure size 432x288 with 1 Axes>"
            ],
            "image/png": "[encoded data removed]"
          },
          "metadata": {
            "needs_background": "light"
          }
        }
      ]
    },
    {
      "cell_type": "code",
      "source": [
        "standard = StandardScaler()\n",
        "one_encoder = OneHotEncoder()\n",
        "\n",
        "full_pipeline = ColumnTransformer([\n",
        "                                   ('numeric', standard, num),\n",
        "                                   ('one_hot', one_encoder, cat)\n",
        "])\n",
        "x_train_one_hot_resample = full_pipeline.fit_transform(x_resample)\n",
        "x_train_one_hot_resample = x_train_one_hot_resample.toarray()"
      ],
      "metadata": {
        "id": "MkvA5TTNR5md"
      },
      "execution_count": 95,
      "outputs": []
    },
    {
      "cell_type": "code",
      "source": [
        "params = {\n",
        "    'criterion': ['gini', 'entropy'],\n",
        "    'max_depth':[31, 35, 37, 41],\n",
        "    'min_samples_split': [2, 4, 6],\n",
        "    'min_samples_leaf': [2, 4, 6]\n",
        "}\n",
        "\n",
        "gridcv = GridSearchCV(DecisionTreeClassifier(), params, cv=5, scoring='f1')\n",
        "gridcv.fit(x_train_one_hot_resample, y_resample)"
      ],
      "metadata": {
        "colab": {
          "base_uri": "https://localhost:8080/"
        },
        "id": "b44NwuotBszt",
        "outputId": "0d395f6e-9344-4916-ef92-50d98a6ec5eb"
      },
      "execution_count": 96,
      "outputs": [
        {
          "output_type": "execute_result",
          "data": {
            "text/plain": [
              "GridSearchCV(cv=5, estimator=DecisionTreeClassifier(),\n",
              "             param_grid={'criterion': ['gini', 'entropy'],\n",
              "                         'max_depth': [31, 35, 37, 41],\n",
              "                         'min_samples_leaf': [2, 4, 6],\n",
              "                         'min_samples_split': [2, 4, 6]},\n",
              "             scoring='f1')"
            ]
          },
          "metadata": {},
          "execution_count": 96
        }
      ]
    },
    {
      "cell_type": "code",
      "source": [
        "gridcv.best_params_"
      ],
      "metadata": {
        "colab": {
          "base_uri": "https://localhost:8080/"
        },
        "id": "ySaVJkE6B2bZ",
        "outputId": "90b096f0-d5a5-4e08-f426-b9a2db35955f"
      },
      "execution_count": 97,
      "outputs": [
        {
          "output_type": "execute_result",
          "data": {
            "text/plain": [
              "{'criterion': 'entropy',\n",
              " 'max_depth': 31,\n",
              " 'min_samples_leaf': 2,\n",
              " 'min_samples_split': 4}"
            ]
          },
          "metadata": {},
          "execution_count": 97
        }
      ]
    },
    {
      "cell_type": "code",
      "source": [
        "gridcv.best_score_"
      ],
      "metadata": {
        "colab": {
          "base_uri": "https://localhost:8080/"
        },
        "id": "FGs8I56AE19A",
        "outputId": "a84a0e94-2c15-4c4e-92de-5035f8d1d8d5"
      },
      "execution_count": 98,
      "outputs": [
        {
          "output_type": "execute_result",
          "data": {
            "text/plain": [
              "0.5998446009289022"
            ]
          },
          "metadata": {},
          "execution_count": 98
        }
      ]
    },
    {
      "cell_type": "code",
      "source": [
        "best_model = gridcv.best_estimator_\n",
        "predict_tree = cross_val_predict(best_model,x_train_one_hot_resample, y_resample, cv=5)\n",
        "metrics(y_resample, predict_tree)"
      ],
      "metadata": {
        "colab": {
          "base_uri": "https://localhost:8080/",
          "height": 335
        },
        "id": "sAH-1K5vCWtc",
        "outputId": "4b5f0a25-1493-4c3a-c08f-8fc4676b2751"
      },
      "execution_count": 99,
      "outputs": [
        {
          "output_type": "stream",
          "name": "stdout",
          "text": [
            "Precisão: 0.6105420934299276\n",
            "Revocação: 0.6043521266073195\n",
            "f1-score: 0.6074313408723748\n"
          ]
        },
        {
          "output_type": "display_data",
          "data": {
            "text/plain": [
              "<Figure size 432x288 with 2 Axes>"
            ],
            "image/png": "[encoded data removed]"
          },
          "metadata": {
            "needs_background": "light"
          }
        }
      ]
    },
    {
      "cell_type": "markdown",
      "source": [
        "importancia das variaveis"
      ],
      "metadata": {
        "id": "OsPD9dqhCbIy"
      }
    },
    {
      "cell_type": "code",
      "source": [
        "def features_importance(grid, pipeline):\n",
        "  cat_labels = []\n",
        "  features_importance = grid.best_estimator_.feature_importances_\n",
        "  cat_encoder = pipeline.named_transformers_['one_hot']\n",
        "  cat_encoder.categories_\n",
        "  colum_labels = list(x_train.columns[:13])\n",
        "  for i in list(cat_encoder.categories_):\n",
        "    for a in i:\n",
        "      cat_labels.append(a)\n",
        "  colum_labels.extend(cat_labels)\n",
        "  return sorted(zip(features_importance, colum_labels), reverse=True)"
      ],
      "metadata": {
        "id": "vIukRShJqZ2-"
      },
      "execution_count": 100,
      "outputs": []
    },
    {
      "cell_type": "code",
      "source": [
        "pprint(features_importance(gridcv, full_pipeline))"
      ],
      "metadata": {
        "colab": {
          "base_uri": "https://localhost:8080/"
        },
        "id": "OFQ1VVEPq_dU",
        "outputId": "a698a8ed-bfd6-4631-8f41-93ef2b78afc7"
      },
      "execution_count": 101,
      "outputs": [
        {
          "output_type": "stream",
          "name": "stdout",
          "text": [
            "[(0.420497978773301, 'Gender'),\n",
            " (0.06501056995586527, 'Years_employed'),\n",
            " (0.04861540171779254, 'Total_income'),\n",
            " (0.04379988594811545, 'Num_children'),\n",
            " (0.03998637147210732, 'Email'),\n",
            " (0.03362359478664546, 'Accountants'),\n",
            " (0.03104392967553799, 'Own_car'),\n",
            " (0.0303170139842943, 'Num_family'),\n",
            " (0.02817596829925143, 'Academic degree'),\n",
            " (0.027795714529838398, 'Married'),\n",
            " (0.027794440232098438, 'not_owner'),\n",
            " (0.02582492435844011, 'Own_property'),\n",
            " (0.02284866582813522, 'Work_phone'),\n",
            " (0.018862047949172577, 'Pensioner'),\n",
            " (0.01836363329461793, 'State servant'),\n",
            " (0.017420821369023363, 'Core staff'),\n",
            " (0.014418546633109508, 'Higher education'),\n",
            " (0.01344698640336015, 'Lower secondary'),\n",
            " (0.012743249119578954, 'Commercial associate'),\n",
            " (0.011755450668413927, 'Working'),\n",
            " (0.01025848983705614, 'owner'),\n",
            " (0.009435305234588931, 'Account_length'),\n",
            " (0.007995735869092848, 'HR staff'),\n",
            " (0.006602755348141732, 'Student'),\n",
            " (0.003247457165034694, 'Cleaning staff'),\n",
            " (0.0028047683410415995, 'High skill tech staff'),\n",
            " (0.002636411298472433, 'Drivers'),\n",
            " (0.002326317910531985, 'Single'),\n",
            " (0.001236063270816603, 'Cooking staff'),\n",
            " (0.0011115007265235614, 'Incomplete higher'),\n",
            " (0.0, 'Unemployed'),\n",
            " (0.0, 'Secondary / secondary special'),\n",
            " (0.0, 'Phone'),\n",
            " (0.0, 'Age')]\n"
          ]
        }
      ]
    },
    {
      "cell_type": "markdown",
      "source": [
        "variaveis que não serão removidas:\n",
        "*   Gender\n",
        "*   Own_property\n",
        "*   Age\n",
        "*   Housing_type\n",
        "*   Family_status\n",
        "*   Work_phone\n",
        "*   Years_employed\n",
        "*   Num_children\n",
        "*   Education_type\n",
        "*   Total_income\n",
        "*   Occupation_type\n",
        "*   Account_length\n",
        "\n",
        "\n",
        "\n",
        "\n",
        "\n",
        "\n",
        "\n",
        "\n",
        "\n",
        "\n",
        "\n",
        "\n",
        "\n",
        "\n"
      ],
      "metadata": {
        "id": "QB0EPXrorZjb"
      }
    },
    {
      "cell_type": "markdown",
      "source": [
        "Removendo variaveis"
      ],
      "metadata": {
        "id": "4erYlG7VAoVg"
      }
    },
    {
      "cell_type": "code",
      "source": [
        "drop = ['Own_car', 'Phone', 'Email', 'Unemployed', 'Num_family', 'Income_type']\n",
        "x_train_removed = x_train.drop(labels=drop, axis=1)"
      ],
      "metadata": {
        "id": "JnBfVHRMG2dG"
      },
      "execution_count": 102,
      "outputs": []
    },
    {
      "cell_type": "markdown",
      "source": [
        "criando variaveis sintéticas"
      ],
      "metadata": {
        "id": "UdJ8tkwDZr7M"
      }
    },
    {
      "cell_type": "code",
      "source": [
        "sm = SMOTEN(sampling_strategy=0.6, random_state=42)\n",
        "x_resample, y_resample = sm.fit_resample(x_train_removed, y_train)"
      ],
      "metadata": {
        "id": "2-7Ep0MIY9fP"
      },
      "execution_count": 103,
      "outputs": []
    },
    {
      "cell_type": "markdown",
      "source": [
        "fazendo transformações"
      ],
      "metadata": {
        "id": "1L6BbS2yZomO"
      }
    },
    {
      "cell_type": "code",
      "source": [
        "standard = StandardScaler()\n",
        "one_encoder = OneHotEncoder()\n",
        "\n",
        "num = ['Total_income']\n",
        "cat = ['Education_type', 'Family_status', 'Housing_type', 'Occupation_type']\n",
        "\n",
        "full_pipeline = ColumnTransformer([\n",
        "                                   ('numeric', standard, num),\n",
        "                                   ('one_hot', one_encoder, cat)\n",
        "])\n",
        "\n",
        "x_train_one_hot_limp = full_pipeline.fit_transform(x_resample)\n",
        "x_train_one_hot_limp = x_train_one_hot_limp.toarray()"
      ],
      "metadata": {
        "id": "3XitTYy2FUh4"
      },
      "execution_count": 104,
      "outputs": []
    },
    {
      "cell_type": "markdown",
      "source": [
        "Arvore de decisão"
      ],
      "metadata": {
        "id": "YWFMXgFoJcQV"
      }
    },
    {
      "cell_type": "code",
      "source": [
        "params = {\n",
        "    'criterion': ['gini', 'entropy'],\n",
        "    'max_depth':[27, 31, 35, 39],\n",
        "    'min_samples_split': [2, 4, 6],\n",
        "    'min_samples_leaf': [2, 4, 6]\n",
        "}\n",
        "\n",
        "gridcv_tree = GridSearchCV(DecisionTreeClassifier(), params, cv=5, scoring='f1')\n",
        "gridcv_tree.fit(x_train_one_hot_limp, y_resample)"
      ],
      "metadata": {
        "colab": {
          "base_uri": "https://localhost:8080/"
        },
        "id": "6gwYD9Q6A28w",
        "outputId": "42396cf7-1d6c-442a-bda0-227d8ba47e5c"
      },
      "execution_count": 105,
      "outputs": [
        {
          "output_type": "execute_result",
          "data": {
            "text/plain": [
              "GridSearchCV(cv=5, estimator=DecisionTreeClassifier(),\n",
              "             param_grid={'criterion': ['gini', 'entropy'],\n",
              "                         'max_depth': [27, 31, 35, 39],\n",
              "                         'min_samples_leaf': [2, 4, 6],\n",
              "                         'min_samples_split': [2, 4, 6]},\n",
              "             scoring='f1')"
            ]
          },
          "metadata": {},
          "execution_count": 105
        }
      ]
    },
    {
      "cell_type": "code",
      "source": [
        "gridcv_tree.best_params_"
      ],
      "metadata": {
        "colab": {
          "base_uri": "https://localhost:8080/"
        },
        "id": "p3cnZwO9A7DR",
        "outputId": "acbff5b5-a0dd-4042-ef55-5f84028f1a28"
      },
      "execution_count": 106,
      "outputs": [
        {
          "output_type": "execute_result",
          "data": {
            "text/plain": [
              "{'criterion': 'entropy',\n",
              " 'max_depth': 31,\n",
              " 'min_samples_leaf': 2,\n",
              " 'min_samples_split': 2}"
            ]
          },
          "metadata": {},
          "execution_count": 106
        }
      ]
    },
    {
      "cell_type": "code",
      "source": [
        "gridcv_tree.best_score_"
      ],
      "metadata": {
        "colab": {
          "base_uri": "https://localhost:8080/"
        },
        "id": "jbq901HRBAT-",
        "outputId": "3bc773a7-b2ef-4e16-dba1-dbb779f5a84a"
      },
      "execution_count": 107,
      "outputs": [
        {
          "output_type": "execute_result",
          "data": {
            "text/plain": [
              "0.5848634259406179"
            ]
          },
          "metadata": {},
          "execution_count": 107
        }
      ]
    },
    {
      "cell_type": "code",
      "source": [
        "best_model_tree = gridcv_tree.best_estimator_\n",
        "predict_tree = cross_val_predict(best_model_tree, x_train_one_hot_limp, y_resample, cv=5)\n",
        "metrics(y_resample, predict_tree)"
      ],
      "metadata": {
        "id": "KWhBNMo0JpF2",
        "colab": {
          "base_uri": "https://localhost:8080/",
          "height": 335
        },
        "outputId": "0f6ee290-ad18-4fa1-e0ba-4563d8c5ac3e"
      },
      "execution_count": 108,
      "outputs": [
        {
          "output_type": "stream",
          "name": "stdout",
          "text": [
            "Precisão: 0.6008146639511202\n",
            "Revocação: 0.5835806132542037\n",
            "f1-score: 0.5920722528850978\n"
          ]
        },
        {
          "output_type": "display_data",
          "data": {
            "text/plain": [
              "<Figure size 432x288 with 2 Axes>"
            ],
            "image/png": "[encoded data removed]"
          },
          "metadata": {
            "needs_background": "light"
          }
        }
      ]
    },
    {
      "cell_type": "code",
      "source": [
        "def roc_auc(model, x, y):\n",
        "  predict_proba = cross_val_predict(model, x, y, cv=5, method='predict_proba')\n",
        "  fpr, tpr, thr = roc_curve(y, predict_proba[:,1])\n",
        "  plt.figure(figsize=(8, 6))\n",
        "  plt.plot(fpr, tpr, linewidth=2)\n",
        "  plt.plot([0,1], [0, 1], 'k--')\n",
        "  plt.axis([0, 1, 0, 1])\n",
        "  plt.xlabel('False Positive Rate', fontsize=16)\n",
        "  plt.ylabel('True Positive Rate', fontsize=16)\n",
        "  plt.show()\n",
        "  print(f'AUC: {roc_auc_score(y, predict_proba[:,1])}')"
      ],
      "metadata": {
        "id": "wzmgnd939b0E"
      },
      "execution_count": 109,
      "outputs": []
    },
    {
      "cell_type": "code",
      "source": [
        "roc_auc(best_model_tree, x_train_one_hot_limp, y_resample)"
      ],
      "metadata": {
        "colab": {
          "base_uri": "https://localhost:8080/",
          "height": 414
        },
        "id": "2LVnKiGx9_JU",
        "outputId": "c817a554-8712-4fbc-8f1f-60ffa9476a50"
      },
      "execution_count": 110,
      "outputs": [
        {
          "output_type": "display_data",
          "data": {
            "text/plain": [
              "<Figure size 576x432 with 1 Axes>"
            ],
            "image/png": "[encoded data removed]"
          },
          "metadata": {
            "needs_background": "light"
          }
        },
        {
          "output_type": "stream",
          "name": "stdout",
          "text": [
            "AUC: 0.7374991581257702\n"
          ]
        }
      ]
    },
    {
      "cell_type": "markdown",
      "source": [
        "KNN"
      ],
      "metadata": {
        "id": "bIJ2MI-zamSK"
      }
    },
    {
      "cell_type": "code",
      "source": [
        "params = {\n",
        "    'n_neighbors': [1, 2, 3, 4],\n",
        "    'p':[1,2]\n",
        "}\n",
        "\n",
        "gridcv_knn = GridSearchCV(KNeighborsClassifier(), params, cv=5, scoring='f1')\n",
        "gridcv_knn.fit(x_train_one_hot_limp, y_resample)"
      ],
      "metadata": {
        "colab": {
          "base_uri": "https://localhost:8080/"
        },
        "id": "6V9V2uB2iU5J",
        "outputId": "c53faa3d-bde6-4b8c-da3c-688c3e415413"
      },
      "execution_count": 111,
      "outputs": [
        {
          "output_type": "execute_result",
          "data": {
            "text/plain": [
              "GridSearchCV(cv=5, estimator=KNeighborsClassifier(),\n",
              "             param_grid={'n_neighbors': [1, 2, 3, 4], 'p': [1, 2]},\n",
              "             scoring='f1')"
            ]
          },
          "metadata": {},
          "execution_count": 111
        }
      ]
    },
    {
      "cell_type": "code",
      "source": [
        "gridcv_knn.best_score_"
      ],
      "metadata": {
        "colab": {
          "base_uri": "https://localhost:8080/"
        },
        "id": "7XLsnOxFjKx8",
        "outputId": "437a7964-d6d3-4432-c458-58ad5c07e59c"
      },
      "execution_count": 112,
      "outputs": [
        {
          "output_type": "execute_result",
          "data": {
            "text/plain": [
              "0.5011680234310336"
            ]
          },
          "metadata": {},
          "execution_count": 112
        }
      ]
    },
    {
      "cell_type": "code",
      "source": [
        "gridcv_knn.best_params_"
      ],
      "metadata": {
        "colab": {
          "base_uri": "https://localhost:8080/"
        },
        "id": "RAhpUtS_jpPV",
        "outputId": "f9895f65-de19-4b92-9392-55fff0299cdb"
      },
      "execution_count": 113,
      "outputs": [
        {
          "output_type": "execute_result",
          "data": {
            "text/plain": [
              "{'n_neighbors': 4, 'p': 2}"
            ]
          },
          "metadata": {},
          "execution_count": 113
        }
      ]
    },
    {
      "cell_type": "code",
      "source": [
        "best_model_knn = gridcv_knn.best_estimator_\n",
        "predict_knn = cross_val_predict(best_model_knn, x_train_one_hot_limp, y_resample, cv=5)\n",
        "metrics(y_resample, predict_knn)"
      ],
      "metadata": {
        "colab": {
          "base_uri": "https://localhost:8080/",
          "height": 335
        },
        "id": "Yb1nPf7WjtwP",
        "outputId": "6952a720-5821-4407-e046-7cf392e384f4"
      },
      "execution_count": 114,
      "outputs": [
        {
          "output_type": "stream",
          "name": "stdout",
          "text": [
            "Precisão: 0.608010955152345\n",
            "Revocação: 0.4391691394658754\n",
            "f1-score: 0.5099784637473079\n"
          ]
        },
        {
          "output_type": "display_data",
          "data": {
            "text/plain": [
              "<Figure size 432x288 with 2 Axes>"
            ],
            "image/png": "[encoded data removed]"
          },
          "metadata": {
            "needs_background": "light"
          }
        }
      ]
    },
    {
      "cell_type": "code",
      "source": [
        "roc_auc(best_model_knn, x_train_one_hot_limp, y_resample)"
      ],
      "metadata": {
        "colab": {
          "base_uri": "https://localhost:8080/",
          "height": 414
        },
        "id": "XZYIY9gO-uwJ",
        "outputId": "1dbb965e-2544-4119-f843-2b688b39de8f"
      },
      "execution_count": 115,
      "outputs": [
        {
          "output_type": "display_data",
          "data": {
            "text/plain": [
              "<Figure size 576x432 with 1 Axes>"
            ],
            "image/png": "[encoded data removed]"
          },
          "metadata": {
            "needs_background": "light"
          }
        },
        {
          "output_type": "stream",
          "name": "stdout",
          "text": [
            "AUC: 0.6997967103003293\n"
          ]
        }
      ]
    },
    {
      "cell_type": "markdown",
      "source": [
        "avaliando o melhor modelo no conjunto de teste"
      ],
      "metadata": {
        "id": "-Vf9d6KzrwMz"
      }
    },
    {
      "cell_type": "code",
      "source": [
        "drop = ['Own_car', 'Phone', 'Email', 'Unemployed', 'Num_family', 'Income_type', 'Target']\n",
        "x_test_limp = x_test.drop(labels=drop, axis=1)\n",
        "y_test = x_test['Target']"
      ],
      "metadata": {
        "id": "x0YG41f3rv4H"
      },
      "execution_count": 116,
      "outputs": []
    },
    {
      "cell_type": "code",
      "source": [
        "x_test_prepared = full_pipeline.transform(x_test_limp).toarray()"
      ],
      "metadata": {
        "id": "Xfo3wsVNDw5y"
      },
      "execution_count": 117,
      "outputs": []
    },
    {
      "cell_type": "code",
      "source": [
        "y_test_predict = best_model_tree.predict(x_test_prepared)"
      ],
      "metadata": {
        "id": "CCGHoSkjMrpv"
      },
      "execution_count": 118,
      "outputs": []
    },
    {
      "cell_type": "code",
      "source": [
        "metrics(y_test, y_test_predict)"
      ],
      "metadata": {
        "colab": {
          "base_uri": "https://localhost:8080/",
          "height": 335
        },
        "id": "XRIiZb30OMfv",
        "outputId": "4307e44b-e54a-4519-fb87-d12ae0fa5a35"
      },
      "execution_count": 119,
      "outputs": [
        {
          "output_type": "stream",
          "name": "stdout",
          "text": [
            "Precisão: 0.1194331983805668\n",
            "Revocação: 0.22957198443579765\n",
            "f1-score: 0.15712383488681758\n"
          ]
        },
        {
          "output_type": "display_data",
          "data": {
            "text/plain": [
              "<Figure size 432x288 with 2 Axes>"
            ],
            "image/png": "[encoded data removed]"
          },
          "metadata": {
            "needs_background": "light"
          }
        }
      ]
    },
    {
      "cell_type": "markdown",
      "source": [
        "o modelo não se saiu bem com os dados de teste. devo voltar para o inicio e tentar melhorar os ajustes"
      ],
      "metadata": {
        "id": "9r-LWzsahyyp"
      }
    }
  ]
}